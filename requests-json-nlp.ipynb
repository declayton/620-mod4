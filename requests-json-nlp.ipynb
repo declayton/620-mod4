{
 "cells": [
  {
   "cell_type": "markdown",
   "metadata": {},
   "source": [
    "# Deanna Clayton\n",
    "## Module 4 Assignment"
    "https://github.com/declayton/620-mod4"
   ]
  },
  {
   "cell_type": "markdown",
   "metadata": {},
   "source": [
    "# Web Mining and Applied NLP (44-620)\n",
    "\n",
    "## Requests, JSON, and NLP\n",
    "\n",
    "### Student Name: Deanna Clayton\n",
    "\n",
    "Perform the tasks described in the Markdown cells below.  When you have completed the assignment make sure your code cells have all been run (and have output beneath them) and ensure you have committed and pushed ALL of your changes to your assignment repository.\n",
    "\n",
    "Make sure you have [installed spaCy and its pipeline](https://spacy.io/usage#quickstart) and [spaCyTextBlob](https://spacy.io/universe/project/spacy-textblob)\n",
    "\n",
    "Every question that requires you to write code will have a code cell underneath it; you may either write your entire solution in that cell or write it in a python file (`.py`), then import and run the appropriate code to answer the question.\n",
    "\n",
    "This assignment requires that you write additional files (either JSON or pickle files); make sure to submit those files in your repository as well."
   ]
  },
  {
   "cell_type": "markdown",
   "metadata": {},
   "source": [
    "1. The following code accesses the [lyrics.ovh](https://lyricsovh.docs.apiary.io/#reference/0/lyrics-of-a-song/search) public api, searches for the lyrics of a song, and stores it in a dictionary object.  Write the resulting json to a file (either a JSON file or a pickle file; you choose). You will read in the contents of this file for future questions so we do not need to frequently access the API."
   ]
  },
  {
   "cell_type": "code",
   "execution_count": 1,
   "metadata": {},
   "outputs": [],
   "source": [
    "import requests\n",
    "import json\n",
    "\n",
    "AUTHOR='Edgar Allan Poe'           # Author's name and title of poem\n",
    "POEM = 'A Dream Within A Dream'\n",
    "\n",
    "URL = f'https://poetrydb.org/author,title/{AUTHOR};{POEM}'       # URL for poetrydb.org with desired author and poem\n",
    "result = json.loads(requests.get(URL).text)            # gets desired information from website\n",
    "poem = '\\n'.join(result[0]['lines'])           # The lines of the poem"
   ]
  },
  {
   "cell_type": "code",
   "execution_count": 2,
   "metadata": {},
   "outputs": [],
   "source": [
    "with open('poe-poem.json', 'w') as file:       # Stores the poem as a json file.\n",
    "    json.dump(result, file)"
   ]
  },
  {
   "cell_type": "markdown",
   "metadata": {},
   "source": [
    "2. Read in the contents of your file.  Print the lyrics of the song (not the entire dictionary!) and use spaCyTextBlob to perform sentiment analysis on the lyrics.  Print the polarity score of the sentiment analysis.  Given that the range of the polarity score is `[-1.0,1.0]` which corresponds to how positive or negative the text in question is, do you think the lyrics have a more positive or negative connotaion?  Answer this question in a comment in your code cell."
   ]
  },
  {
   "cell_type": "code",
   "execution_count": 3,
   "metadata": {},
   "outputs": [
    {
     "name": "stdout",
     "output_type": "stream",
     "text": [
      "Take this kiss upon the brow!\n",
      "And, in parting from you now,\n",
      "Thus much let me avow--\n",
      "You are not wrong, who deem\n",
      "That my days have been a dream:\n",
      "Yet if hope has flown away\n",
      "In a night, or in a day,\n",
      "In a vision or in none,\n",
      "Is it therefore the less _gone_?\n",
      "_All_ that we see or seem\n",
      "Is but a dream within a dream.\n",
      "\n",
      "I stand amid the roar\n",
      "Of a surf-tormented shore,\n",
      "And I hold within my hand\n",
      "Grains of the golden sand--\n",
      "How few! yet how they creep\n",
      "Through my fingers to the deep\n",
      "While I weep--while I weep!\n",
      "O God! can I not grasp\n",
      "Them with a tighter clasp?\n",
      "O God! can I not save\n",
      "_One_ from the pitiless wave?\n",
      "Is _all_ that we see or seem\n",
      "But a dream within a dream?\n",
      "\n",
      "Polarity =  0.055555555555555546\n"
     ]
    }
   ],
   "source": [
    "import json\n",
    "import spacy\n",
    "from spacytextblob.spacytextblob import SpacyTextBlob\n",
    "\n",
    "with open('poe-poem.json', 'r') as file:           # Reads the json file and prints the poem\n",
    "    poetry = json.load(file)\n",
    "poem = '\\n'.join(poetry[0]['lines'])\n",
    "print(poem)\n",
    "\n",
    "nlp = spacy.load('en_core_web_sm')\n",
    "nlp.add_pipe('spacytextblob')\n",
    "poem = '\\n'.join(result[0]['lines']) \n",
    "doc = nlp(poem)\n",
    "doc._.blob.sentiment_assessments.assessments     # Performs the sentiment analysis\n",
    "print()\n",
    "print('Polarity = ', doc._.blob.polarity)        # Prints the polarity score\n",
    "\n",
    "# My poem has a very slight positive connontation, since its polarity is close to 0, but still a positive number."
   ]
  },
  {
   "cell_type": "markdown",
   "metadata": {},
   "source": [
    "3. Write a function that takes an artist, song, and filename, accesses the lyrics.ovh api to get the song lyrics, and writes the results to the specified filename.  Test this function by getting the lyrics to any four songs of your choice and storing them in different files."
   ]
  },
  {
   "cell_type": "code",
   "execution_count": 4,
   "metadata": {},
   "outputs": [],
   "source": [
    "import requests\n",
    "import json\n",
    "\n",
    "def write_poem_from_poetrydb_to_JSON (author, title, file_name):      #Function to get and write poem to json file\n",
    "    URL = f'https://poetrydb.org/author,title/{author};{title}'\n",
    "    result = json.loads(requests.get(URL).text)\n",
    "    json_file = file_name+'.json'\n",
    "    with open(json_file, 'w') as file:\n",
    "        json.dump(result, file)"
   ]
  },
  {
   "cell_type": "code",
   "execution_count": 5,
   "metadata": {},
   "outputs": [],
   "source": [
    "# Calls funtion for 4 poems\n",
    "write_poem_from_poetrydb_to_JSON ('Edgar Allan Poe', 'A Dream Within A Dream', 'a-dream-within-a-dream')\n",
    "write_poem_from_poetrydb_to_JSON ('William Shakespeare', 'Under The Greenwood Tree', 'under-the-greenwood-tree')\n",
    "write_poem_from_poetrydb_to_JSON ('Oscar Wilde', 'Roses and Rue', 'roses-and-rue')\n",
    "write_poem_from_poetrydb_to_JSON ('Emily Bronte', 'Death', 'death')"
   ]
  },
  {
   "cell_type": "code",
   "execution_count": 6,
   "metadata": {},
   "outputs": [
    {
     "name": "stdout",
     "output_type": "stream",
     "text": [
      "A Dream Within A Dream\n",
      "By Edgar Allan Poe\n",
      "Take this kiss upon the brow!\n",
      "And, in parting from you now,\n",
      "Thus much let me avow--\n",
      "You are not wrong, who deem\n",
      "That my days have been a dream:\n",
      "Yet if hope has flown away\n",
      "In a night, or in a day,\n",
      "In a vision or in none,\n",
      "Is it therefore the less _gone_?\n",
      "_All_ that we see or seem\n",
      "Is but a dream within a dream.\n",
      "\n",
      "I stand amid the roar\n",
      "Of a surf-tormented shore,\n",
      "And I hold within my hand\n",
      "Grains of the golden sand--\n",
      "How few! yet how they creep\n",
      "Through my fingers to the deep\n",
      "While I weep--while I weep!\n",
      "O God! can I not grasp\n",
      "Them with a tighter clasp?\n",
      "O God! can I not save\n",
      "_One_ from the pitiless wave?\n",
      "Is _all_ that we see or seem\n",
      "But a dream within a dream?\n"
     ]
    }
   ],
   "source": [
    "with open('a-dream-within-a-dream.json', 'r') as file:         # Shows that poem was stored in json file for first poem\n",
    "    poetry = json.load(file)\n",
    "title = ''.join(poetry[0]['title'])\n",
    "author = ''.join(poetry[0]['author'])\n",
    "poem = '\\n'.join(poetry[0]['lines'])\n",
    "print(title)\n",
    "print('By', author)\n",
    "print(poem)"
   ]
  },
  {
   "cell_type": "code",
   "execution_count": 7,
   "metadata": {},
   "outputs": [
    {
     "name": "stdout",
     "output_type": "stream",
     "text": [
      "Under the Greenwood Tree\n",
      "By William Shakespeare\n",
      "Under the greenwood tree\n",
      "Who loves to lie with me,\n",
      "And turn his merry note\n",
      "Unto the sweet bird's throat,\n",
      "Come hither, come hither, come hither:\n",
      "Here shall he see\n",
      "No enemy\n",
      "But winter and rough weather.\n",
      "\n",
      "Who doth ambition shun,\n",
      "And loves to live i' the sun,\n",
      "Seeking the food he eats,\n",
      "And pleas'd with what he gets,\n",
      "Come hither, come hither, come hither:\n",
      "Here shall he see\n",
      "No enemy\n",
      "But winter and rough weather.\n"
     ]
    }
   ],
   "source": [
    "with open('under-the-greenwood-tree.json', 'r') as file:         # Shows that poem was stored in json file for second poem\n",
    "    poetry = json.load(file)\n",
    "title = ''.join(poetry[0]['title'])\n",
    "author = ''.join(poetry[0]['author'])\n",
    "poem = '\\n'.join(poetry[0]['lines'])\n",
    "print(title)\n",
    "print('By', author)\n",
    "print(poem)"
   ]
  },
  {
   "cell_type": "code",
   "execution_count": 8,
   "metadata": {},
   "outputs": [
    {
     "name": "stdout",
     "output_type": "stream",
     "text": [
      "Roses And Rue\n",
      "By Oscar Wilde\n",
      "(To L. L.)\n",
      "\n",
      "Could we dig up this long-buried treasure,\n",
      "Were it worth the pleasure,\n",
      "We never could learn love's song,\n",
      "We are parted too long.\n",
      "\n",
      "Could the passionate past that is fled\n",
      "Call back its dead,\n",
      "Could we live it all over again,\n",
      "Were it worth the pain!\n",
      "\n",
      "I remember we used to meet\n",
      "By an ivied seat,\n",
      "And you warbled each pretty word\n",
      "With the air of a bird;\n",
      "\n",
      "And your voice had a quaver in it,\n",
      "Just like a linnet,\n",
      "And shook, as the blackbird's throat\n",
      "With its last big note;\n",
      "\n",
      "And your eyes, they were green and grey\n",
      "Like an April day,\n",
      "But lit into amethyst\n",
      "When I stooped and kissed;\n",
      "\n",
      "And your mouth, it would never smile\n",
      "For a long, long while,\n",
      "Then it rippled all over with laughter\n",
      "Five minutes after.\n",
      "\n",
      "You were always afraid of a shower,\n",
      "Just like a flower:\n",
      "I remember you started and ran\n",
      "When the rain began.\n",
      "\n",
      "I remember I never could catch you,\n",
      "For no one could match you,\n",
      "You had wonderful, luminous, fleet,\n",
      "Little wings to your feet.\n",
      "\n",
      "I remember your hair - did I tie it?\n",
      "For it always ran riot -\n",
      "Like a tangled sunbeam of gold:\n",
      "These things are old.\n",
      "\n",
      "I remember so well the room,\n",
      "And the lilac bloom\n",
      "That beat at the dripping pane\n",
      "In the warm June rain;\n",
      "\n",
      "And the colour of your gown,\n",
      "It was amber-brown,\n",
      "And two yellow satin bows\n",
      "From your shoulders rose.\n",
      "\n",
      "And the handkerchief of French lace\n",
      "Which you held to your face -\n",
      "Had a small tear left a stain?\n",
      "Or was it the rain?\n",
      "\n",
      "On your hand as it waved adieu\n",
      "There were veins of blue;\n",
      "In your voice as it said good-bye\n",
      "Was a petulant cry,\n",
      "\n",
      "'You have only wasted your life.'\n",
      "(Ah, that was the knife!)\n",
      "When I rushed through the garden gate\n",
      "It was all too late.\n",
      "\n",
      "Could we live it over again,\n",
      "Were it worth the pain,\n",
      "Could the passionate past that is fled\n",
      "Call back its dead!\n",
      "\n",
      "Well, if my heart must break,\n",
      "Dear love, for your sake,\n",
      "It will break in music, I know,\n",
      "Poets' hearts break so.\n",
      "\n",
      "But strange that I was not told\n",
      "That the brain can hold\n",
      "In a tiny ivory cell\n",
      "God's heaven and hell.\n"
     ]
    }
   ],
   "source": [
    "with open('roses-and-rue.json', 'r') as file:         # Shows that poem was stored in json file for third poem\n",
    "    poetry = json.load(file)\n",
    "title = ''.join(poetry[0]['title'])\n",
    "author = ''.join(poetry[0]['author'])\n",
    "poem = '\\n'.join(poetry[0]['lines'])\n",
    "print(title)\n",
    "print('By', author)\n",
    "print(poem)"
   ]
  },
  {
   "cell_type": "code",
   "execution_count": 9,
   "metadata": {},
   "outputs": [
    {
     "name": "stdout",
     "output_type": "stream",
     "text": [
      "Death\n",
      "By Emily Bronte\n",
      "Death! that struck when I was most confiding\n",
      "In my certain faith of joy to be -\n",
      "Strike again, Time's withered branch dividing\n",
      "From the fresh root of Eternity!\n",
      "\n",
      "Leaves, upon Time's branch, were growing brightly,\n",
      "Full of sap, and full of silver dew;\n",
      "Birds beneath its shelter gathered nightly;\n",
      "Daily round its flowers the wild bees flew.\n",
      "\n",
      "Sorrow passed, and plucked the golden blossom;\n",
      "Guilt stripped off the foliage in its pride;\n",
      "But, within its parent's kindly bosom,\n",
      "Flowed for ever Life's restoring-tide.\n",
      "\n",
      "Little mourned I for the parted gladness,\n",
      "For the vacant nest and silent song -\n",
      "Hope was there, and laughed me out of sadness;\n",
      "Whispering, \" Winter will not linger long!\"\n",
      "\n",
      "And, behold! with tenfold increase blessing,\n",
      "Spring adorned the beauty-burdened spray;\n",
      "Wind and rain and fervent heat, caressing,\n",
      "Lavished glory on that second May!\n",
      "\n",
      "High it rose - no winged grief could sweep it;\n",
      "Sin was scared to distance with its shine;\n",
      "Love, and its own life, had power to keep it\n",
      "From all wrong - from every blight but thine!\n",
      "\n",
      "Cruel Death! The young leaves droop and languish;\n",
      "Evening's gentle air may still restore -\n",
      "No! the morning sunshine mocks my anguish -\n",
      "Time, for me, must never blossom more!\n",
      "\n",
      "Strike it down, that other boughs may flourish\n",
      "Where that perished sapling used to be;\n",
      "Thus, at least, its mouldering corpse will nourish\n",
      "That from which it sprung - Eternity.\n"
     ]
    }
   ],
   "source": [
    "with open('death.json', 'r') as file:         # Shows that poem was stored in json file for fourth poem\n",
    "    poetry = json.load(file)\n",
    "title = ''.join(poetry[0]['title'])\n",
    "author = ''.join(poetry[0]['author'])\n",
    "poem = '\\n'.join(poetry[0]['lines'])\n",
    "print(title)\n",
    "print('By', author)\n",
    "print(poem)"
   ]
  },
  {
   "cell_type": "markdown",
   "metadata": {},
   "source": [
    "4. Write a function that takes the name of a file that contains song lyrics, loads the file, performs sentiment analysis, and returns the polarity score.  Use this function to print the polarity scores (with the name of the song) of the three files you created in question 3.  Does the reported polarity match your understanding of the song's lyrics? Why or why not do you think that might be?  Answer the questions in either a comment in the code cell or a markdown cell under the code cell."
   ]
  },
  {
   "cell_type": "code",
   "execution_count": 10,
   "metadata": {},
   "outputs": [],
   "source": [
    "import spacy\n",
    "from spacytextblob.spacytextblob import SpacyTextBlob\n",
    "import json\n",
    "\n",
    "def polarity_of_poem (file_name):                # Function calls json file, performs sentiment analysis, and returns the polarity score\n",
    "    nlp = spacy.load('en_core_web_sm')\n",
    "    nlp.add_pipe('spacytextblob')\n",
    "    with open(file_name, 'r') as file:\n",
    "        poetry = json.load(file)\n",
    "    poem = '\\n'.join(poetry[0]['lines'])\n",
    "    title = ''.join(poetry[0]['title'])\n",
    "    author = ''.join(poetry[0]['author']) \n",
    "    doc = nlp(poem)\n",
    "    doc._.blob.sentiment_assessments.assessments\n",
    "    polarity = doc._.blob.polarity\n",
    "    return print('The polarity of', title, 'by', author, 'is', polarity)"
   ]
  },
  {
   "cell_type": "code",
   "execution_count": 12,
   "metadata": {},
   "outputs": [
    {
     "name": "stdout",
     "output_type": "stream",
     "text": [
      "The polarity of Death by Emily Bronte is 0.1259691434044882\n",
      "The polarity of A Dream Within A Dream by Edgar Allan Poe is 0.055555555555555546\n",
      "The polarity of Roses And Rue by Oscar Wilde is 0.03900568181818181\n",
      "The polarity of Under the Greenwood Tree by William Shakespeare is 0.0715909090909091\n"
     ]
    }
   ],
   "source": [
    "# Calls the polarity function on the four poems\n",
    "\n",
    "polarity_of_poem ('death.json')\n",
    "polarity_of_poem ('a-dream-within-a-dream.json')\n",
    "polarity_of_poem ('roses-and-rue.json')\n",
    "polarity_of_poem ('under-the-greenwood-tree.json')"
   ]
  },
  {
   "cell_type": "markdown",
   "metadata": {},
   "source": [
    "All of the poems I chose had a positive polarity, meaning that the text in question was found to be positive. I agree with the polarities of each of the poems, because while they are positive, they are not exremely positive. This goes with each of the poems because while they do contain several stanzas of positive words, there are also stanzas containing darker and more negative versus. \n",
    "\n",
    "For instance, in Roses and Rue by Oscar Wilde, the first half talks of meeting a woman and the wonderful things that the narrator remembers about her. But the last half talks of her leaving him and the heartache that caused. "
   ]
  },
  {
   "cell_type": "code",
   "execution_count": null,
   "metadata": {},
   "outputs": [],
   "source": []
  }
 ],
 "metadata": {
  "kernelspec": {
   "display_name": "Python 3 (ipykernel)",
   "language": "python",
   "name": "python3"
  },
  "language_info": {
   "codemirror_mode": {
    "name": "ipython",
    "version": 3
   },
   "file_extension": ".py",
   "mimetype": "text/x-python",
   "name": "python",
   "nbconvert_exporter": "python",
   "pygments_lexer": "ipython3",
   "version": "3.9.12"
  }
 },
 "nbformat": 4,
 "nbformat_minor": 4
}
