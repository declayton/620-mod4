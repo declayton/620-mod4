{
 "cells": [
  {
   "cell_type": "code",
   "execution_count": 1,
   "id": "8cbf4274-c85d-42e2-b818-4d6f4e3facf3",
   "metadata": {},
   "outputs": [],
   "source": [
    "import requests\n",
    "import json"
   ]
  },
  {
   "cell_type": "code",
   "execution_count": 2,
   "id": "f101e8c8-d2ee-4b39-91bd-c14289c50693",
   "metadata": {},
   "outputs": [],
   "source": [
    "def write_poem_from_poetrydb_to_JSON (author, title, file_name):\n",
    "    URL = f'https://poetrydb.org/author,title/{author};{title}'\n",
    "    result = json.loads(requests.get(URL).text)\n",
    "    json_file = file_name+'.json'\n",
    "    with open(json_file, 'w') as file:\n",
    "        json.dump(result, file)\n",
    "    with open(json_file, 'r') as file:\n",
    "        poetry = json.load(file)\n",
    "    poem = '\\n'.join(poetry[0]['lines'])\n",
    "    title = ''.join(poetry[0]['title'])\n",
    "    author = ''.join(poetry[0]['author'])\n",
    "    print(title)\n",
    "    print('By', author)\n",
    "    print(poem)"
   ]
  },
  {
   "cell_type": "code",
   "execution_count": 3,
   "id": "d0066ba1-91f3-42c4-8d17-5b2af33a5093",
   "metadata": {},
   "outputs": [
    {
     "name": "stdout",
     "output_type": "stream",
     "text": [
      "A Dream Within A Dream\n",
      "By Edgar Allan Poe\n",
      "Take this kiss upon the brow!\n",
      "And, in parting from you now,\n",
      "Thus much let me avow--\n",
      "You are not wrong, who deem\n",
      "That my days have been a dream:\n",
      "Yet if hope has flown away\n",
      "In a night, or in a day,\n",
      "In a vision or in none,\n",
      "Is it therefore the less _gone_?\n",
      "_All_ that we see or seem\n",
      "Is but a dream within a dream.\n",
      "\n",
      "I stand amid the roar\n",
      "Of a surf-tormented shore,\n",
      "And I hold within my hand\n",
      "Grains of the golden sand--\n",
      "How few! yet how they creep\n",
      "Through my fingers to the deep\n",
      "While I weep--while I weep!\n",
      "O God! can I not grasp\n",
      "Them with a tighter clasp?\n",
      "O God! can I not save\n",
      "_One_ from the pitiless wave?\n",
      "Is _all_ that we see or seem\n",
      "But a dream within a dream?\n"
     ]
    }
   ],
   "source": [
    "write_poem_from_poetrydb_to_JSON ('Edgar Allan Poe', 'A Dream Within A Dream', 'a-dream-within-a-dream')"
   ]
  },
  {
   "cell_type": "code",
   "execution_count": 4,
   "id": "79739088-ca67-48cc-a104-163c28135b41",
   "metadata": {},
   "outputs": [
    {
     "name": "stdout",
     "output_type": "stream",
     "text": [
      "Under the Greenwood Tree\n",
      "By William Shakespeare\n",
      "Under the greenwood tree\n",
      "Who loves to lie with me,\n",
      "And turn his merry note\n",
      "Unto the sweet bird's throat,\n",
      "Come hither, come hither, come hither:\n",
      "Here shall he see\n",
      "No enemy\n",
      "But winter and rough weather.\n",
      "\n",
      "Who doth ambition shun,\n",
      "And loves to live i' the sun,\n",
      "Seeking the food he eats,\n",
      "And pleas'd with what he gets,\n",
      "Come hither, come hither, come hither:\n",
      "Here shall he see\n",
      "No enemy\n",
      "But winter and rough weather.\n"
     ]
    }
   ],
   "source": [
    "write_poem_from_poetrydb_to_JSON ('William Shakespeare', 'Under The Greenwood Tree', 'under-the-greenwood-tree')"
   ]
  },
  {
   "cell_type": "code",
   "execution_count": 5,
   "id": "41eb1373-9d78-4c12-986f-da6099568530",
   "metadata": {},
   "outputs": [
    {
     "name": "stdout",
     "output_type": "stream",
     "text": [
      "Roses And Rue\n",
      "By Oscar Wilde\n",
      "(To L. L.)\n",
      "\n",
      "Could we dig up this long-buried treasure,\n",
      "Were it worth the pleasure,\n",
      "We never could learn love's song,\n",
      "We are parted too long.\n",
      "\n",
      "Could the passionate past that is fled\n",
      "Call back its dead,\n",
      "Could we live it all over again,\n",
      "Were it worth the pain!\n",
      "\n",
      "I remember we used to meet\n",
      "By an ivied seat,\n",
      "And you warbled each pretty word\n",
      "With the air of a bird;\n",
      "\n",
      "And your voice had a quaver in it,\n",
      "Just like a linnet,\n",
      "And shook, as the blackbird's throat\n",
      "With its last big note;\n",
      "\n",
      "And your eyes, they were green and grey\n",
      "Like an April day,\n",
      "But lit into amethyst\n",
      "When I stooped and kissed;\n",
      "\n",
      "And your mouth, it would never smile\n",
      "For a long, long while,\n",
      "Then it rippled all over with laughter\n",
      "Five minutes after.\n",
      "\n",
      "You were always afraid of a shower,\n",
      "Just like a flower:\n",
      "I remember you started and ran\n",
      "When the rain began.\n",
      "\n",
      "I remember I never could catch you,\n",
      "For no one could match you,\n",
      "You had wonderful, luminous, fleet,\n",
      "Little wings to your feet.\n",
      "\n",
      "I remember your hair - did I tie it?\n",
      "For it always ran riot -\n",
      "Like a tangled sunbeam of gold:\n",
      "These things are old.\n",
      "\n",
      "I remember so well the room,\n",
      "And the lilac bloom\n",
      "That beat at the dripping pane\n",
      "In the warm June rain;\n",
      "\n",
      "And the colour of your gown,\n",
      "It was amber-brown,\n",
      "And two yellow satin bows\n",
      "From your shoulders rose.\n",
      "\n",
      "And the handkerchief of French lace\n",
      "Which you held to your face -\n",
      "Had a small tear left a stain?\n",
      "Or was it the rain?\n",
      "\n",
      "On your hand as it waved adieu\n",
      "There were veins of blue;\n",
      "In your voice as it said good-bye\n",
      "Was a petulant cry,\n",
      "\n",
      "'You have only wasted your life.'\n",
      "(Ah, that was the knife!)\n",
      "When I rushed through the garden gate\n",
      "It was all too late.\n",
      "\n",
      "Could we live it over again,\n",
      "Were it worth the pain,\n",
      "Could the passionate past that is fled\n",
      "Call back its dead!\n",
      "\n",
      "Well, if my heart must break,\n",
      "Dear love, for your sake,\n",
      "It will break in music, I know,\n",
      "Poets' hearts break so.\n",
      "\n",
      "But strange that I was not told\n",
      "That the brain can hold\n",
      "In a tiny ivory cell\n",
      "God's heaven and hell.\n"
     ]
    }
   ],
   "source": [
    "write_poem_from_poetrydb_to_JSON ('Oscar Wilde', 'Roses and Rue', 'roses-and-rue')"
   ]
  },
  {
   "cell_type": "code",
   "execution_count": 6,
   "id": "0a559f4d-72a9-4ba8-82d9-1773265aa2d8",
   "metadata": {},
   "outputs": [
    {
     "name": "stdout",
     "output_type": "stream",
     "text": [
      "Death\n",
      "By Emily Bronte\n",
      "Death! that struck when I was most confiding\n",
      "In my certain faith of joy to be -\n",
      "Strike again, Time's withered branch dividing\n",
      "From the fresh root of Eternity!\n",
      "\n",
      "Leaves, upon Time's branch, were growing brightly,\n",
      "Full of sap, and full of silver dew;\n",
      "Birds beneath its shelter gathered nightly;\n",
      "Daily round its flowers the wild bees flew.\n",
      "\n",
      "Sorrow passed, and plucked the golden blossom;\n",
      "Guilt stripped off the foliage in its pride;\n",
      "But, within its parent's kindly bosom,\n",
      "Flowed for ever Life's restoring-tide.\n",
      "\n",
      "Little mourned I for the parted gladness,\n",
      "For the vacant nest and silent song -\n",
      "Hope was there, and laughed me out of sadness;\n",
      "Whispering, \" Winter will not linger long!\"\n",
      "\n",
      "And, behold! with tenfold increase blessing,\n",
      "Spring adorned the beauty-burdened spray;\n",
      "Wind and rain and fervent heat, caressing,\n",
      "Lavished glory on that second May!\n",
      "\n",
      "High it rose - no winged grief could sweep it;\n",
      "Sin was scared to distance with its shine;\n",
      "Love, and its own life, had power to keep it\n",
      "From all wrong - from every blight but thine!\n",
      "\n",
      "Cruel Death! The young leaves droop and languish;\n",
      "Evening's gentle air may still restore -\n",
      "No! the morning sunshine mocks my anguish -\n",
      "Time, for me, must never blossom more!\n",
      "\n",
      "Strike it down, that other boughs may flourish\n",
      "Where that perished sapling used to be;\n",
      "Thus, at least, its mouldering corpse will nourish\n",
      "That from which it sprung - Eternity.\n"
     ]
    }
   ],
   "source": [
    "write_poem_from_poetrydb_to_JSON ('Emily Bronte', 'Death', 'death')"
   ]
  },
  {
   "cell_type": "code",
   "execution_count": null,
   "id": "091cbebc-b0d9-42c4-8f09-e130a077c9ad",
   "metadata": {},
   "outputs": [],
   "source": []
  }
 ],
 "metadata": {
  "kernelspec": {
   "display_name": "Python 3 (ipykernel)",
   "language": "python",
   "name": "python3"
  },
  "language_info": {
   "codemirror_mode": {
    "name": "ipython",
    "version": 3
   },
   "file_extension": ".py",
   "mimetype": "text/x-python",
   "name": "python",
   "nbconvert_exporter": "python",
   "pygments_lexer": "ipython3",
   "version": "3.9.12"
  }
 },
 "nbformat": 4,
 "nbformat_minor": 5
}
